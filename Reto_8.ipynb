{
 "cells": [
  {
   "cell_type": "code",
   "execution_count": null,
   "metadata": {},
   "outputs": [],
   "source": [
    "#Listado con los números del 1 al 100 cada uno con su respectivo cuadrado\n",
    "for i in range(1,101): #Usar bucle for para que con la variable i, me recorra todos los números en el rango\n",
    "    cuadrado = i**2 #inicializar una nueva variable que me permita calcular el cuadrado de los números\n",
    "    print(f\"Número: {i}, Cuadrado: {cuadrado}\") #imprimir el número y su respectivo cuadrado"
   ]
  },
  {
   "cell_type": "code",
   "execution_count": null,
   "metadata": {},
   "outputs": [],
   "source": [
    "#Listado con los números impares desde 1 hasta 999 y seguidamente otro listado con los números pares desde 2 hasta 1000.\n",
    "print(\"Los números impares desde el 1 hasta el 999 son:\") #imprimir mensaje\n",
    "for impar in range(1,1000, 2): #usar ciclo for para que recorra los numeros en el rango\n",
    "    print(impar) #imprimir lista impares\n",
    "\n",
    "print(\"\\nLos números pares desde el 2 hasta el 1000 son:\") #imprimir mensaje\n",
    "for par in range(2,1001,2): #usar ciclo for para que recorra los numeros en el rango\n",
    "    print(par) #imprimir lista pares"
   ]
  },
  {
   "cell_type": "code",
   "execution_count": null,
   "metadata": {},
   "outputs": [],
   "source": [
    "#Números pares en forma descendente hasta 2 que son menores o iguales a un número natural n ≥ 2 dado\n",
    "n=int(input(\"Ingrese un número natural: \")) #pedirle al usuario que ingrese un número natural\n",
    "\n",
    "if n > 0: #condición si n es mayor que 0\n",
    "    if n % 2 == 0: #condición si n es par\n",
    "        for par in range(n,1,-2): print(par) #uso de ciclo for en un rango desde n a 1 y que le va restando 2 a n\n",
    "    else: #condición si n es impar\n",
    "        for par in range(n-1,1,-2): print(par) #uso de ciclo for en un rango desde n-1 a 1 y que le va restando 2 a n-1 \n",
    "else: #condición si n no es natural(el usuario no entendió qué es un número natural)\n",
    "    print(\"Ingrese un número válido, no eso :/.\")"
   ]
  },
  {
   "cell_type": "code",
   "execution_count": null,
   "metadata": {},
   "outputs": [],
   "source": [
    "#Números de 1 hasta un número natural n dado, cada uno con su respectivo factorial\n",
    "#Importar la función del factorial\n",
    "import math\n",
    "\n",
    "numero=int(input(\"Ingrese un número natural: \")) #pedirle al usuario que ingrese un número natural\n",
    "\n",
    "print(f\"Los números desde 1 hasta {numero} con su respectivo factorial son:\") #imprimir mensaje\n",
    "\n",
    "if numero > 0: #condición si n es mayor que 0\n",
    "    for n in range(1, numero+1): #usar el ciclo for para que me  recorra toda la lista de números\n",
    "        factorial = math.factorial(n) #Declarar e inicializar la función del factorial\n",
    "        print(n,factorial, sep=\"-\") #imprimir la lista de números con su respectivo factorial separados por una raya\n",
    "else: #condición si n no es natural(el usuario no entendió qué es un número natural)\n",
    "    print(\"Ingrese un número válido, no eso :/.\") #imprimir mensaje"
   ]
  },
  {
   "cell_type": "code",
   "execution_count": 9,
   "metadata": {},
   "outputs": [
    {
     "name": "stdout",
     "output_type": "stream",
     "text": [
      "El número 2 elevado a la 6 da como resultado 64\n"
     ]
    }
   ],
   "source": [
    "#Calcular el valor de 2 elevado a la potencia n usando ciclos for.\n",
    "n=int(input(\"Ingrese el exponente al cual quiere elevar el 2: \")) #pedirle al usuario que ingrese un número\n",
    "\n",
    "for i in range(1,n + 1): #usar el bucle hasta n+1 para que pueda elevar 2 a la n\n",
    "    potencia= 2 ** i #elevar 2 a todos los valores que recorre i en el rango dado\n",
    "\n",
    "print(f\"El número 2 elevado a la {n} da como resultado {potencia}\") #imprimir resultado"
   ]
  },
  {
   "cell_type": "code",
   "execution_count": null,
   "metadata": {},
   "outputs": [],
   "source": [
    "#Leer un número natural n, leer otro dato de tipo real x y calcular x^n usando ciclos for.\n",
    "x=int(input(\"Ingrese la base de la potencia: \")) #pedirle al usuario que ingrese la base de la potencia\n",
    "n=int(input(\"Ingrese el exponente de la base: \")) #pedirle al usuario que ingrese el exponente de la potencia\n",
    "potencia : int = 1 #declarar e inicializar la variable potencia\n",
    "\n",
    "range(n) #definir un rango desde 0 hasta n\n",
    "for i in range(n): #usar el bucle for para que me recorra todo el rango n\n",
    "    potencia *= x #multiplicar la potencia por la base hasta que se recorran todos los elementos del rango n\n",
    "\n",
    "print(potencia) #imprimir resultado"
   ]
  },
  {
   "cell_type": "code",
   "execution_count": null,
   "metadata": {},
   "outputs": [],
   "source": [
    "#Tablas de multiplicar del 1 al 9.\n",
    "#Crear listas vacías que serán llenadas en los ciclos for\n",
    "tabla_1 = []\n",
    "tabla_2 = []\n",
    "tabla_3 = []\n",
    "tabla_4 = []\n",
    "tabla_5 = []\n",
    "tabla_6 = []\n",
    "tabla_7 = []\n",
    "tabla_8 = []\n",
    "tabla_9 = []\n",
    "#Crear ciclos for para cada una de las tablas de multiplicar\n",
    "for numero in range(1,11):\n",
    "    numero *= 1\n",
    "    tabla_1.append(numero)\n",
    "\n",
    "for numero in range(1,11):\n",
    "    numero *= 2\n",
    "    tabla_2.append(numero)\n",
    "\n",
    "for numero in range(1,11):\n",
    "    numero *= 3\n",
    "    tabla_3.append(numero)\n",
    "\n",
    "for numero in range(1,11):\n",
    "    numero *= 4\n",
    "    tabla_4.append(numero)\n",
    "\n",
    "for numero in range(1,11):\n",
    "    numero *= 5\n",
    "    tabla_5.append(numero)\n",
    "\n",
    "for numero in range(1,11):\n",
    "    numero *= 6\n",
    "    tabla_6.append(numero)\n",
    "\n",
    "for numero in range(1,11):\n",
    "    numero *= 7\n",
    "    tabla_7.append(numero)\n",
    "\n",
    "for numero in range(1,11):\n",
    "    numero *= 8\n",
    "    tabla_8.append(numero)\n",
    "\n",
    "for numero in range(1,11):\n",
    "    numero *= 1\n",
    "    tabla_9.append(numero)\n",
    "#Imprimir los resultados de las tablas de multiplicar\n",
    "print(f\"Tabla de multiplicar del 1 desde el 1 hasta el 10:{tabla_1}\")\n",
    "print(f\"Tabla de multiplicar del 2 desde el 1 hasta el 10:{tabla_2}\")\n",
    "print(f\"Tabla de multiplicar del 3 desde el 1 hasta el 10:{tabla_3}\")\n",
    "print(f\"Tabla de multiplicar del 4 desde el 1 hasta el 10:{tabla_4}\")\n",
    "print(f\"Tabla de multiplicar del 5 desde el 1 hasta el 10:{tabla_5}\")\n",
    "print(f\"Tabla de multiplicar del 6 desde el 1 hasta el 10:{tabla_6}\")\n",
    "print(f\"Tabla de multiplicar del 7 desde el 1 hasta el 10:{tabla_7}\")\n",
    "print(f\"Tabla de multiplicar del 8 desde el 1 hasta el 10:{tabla_8}\")\n",
    "print(f\"Tabla de multiplicar del 9 desde el 1 hasta el 10:{tabla_9}\")"
   ]
  },
  {
   "cell_type": "code",
   "execution_count": 4,
   "metadata": {},
   "outputs": [
    {
     "name": "stdout",
     "output_type": "stream",
     "text": [
      "Aproximación:2.7182818011463845\n",
      "Valor real:2.718281828459045\n",
      "El porcentaje de error:1.0047766310211052e-06%\n"
     ]
    }
   ],
   "source": [
    "#Aproximación de la función exponencial alrededor de 0 para cualquier valor x (real), con los primeros n términos de la serie de Maclaurin.\n",
    "from math import exp, factorial #importar la función exponencial\n",
    "\n",
    "def aproximacion_exponencial(x:float, n:int) -> float: #definir una función que se encargue de determinar el valor de esa suma de la operación \"nuevo_termino\"\n",
    "    suma:float = 0 #declarar e inicializar la variable suma\n",
    "    for i in range(n + 1): #usar ciclo for para que recorra todos los números desde 0 a n\n",
    "        nuevo_termino = x ** i / factorial(i) #realizar la operación de x^i/i!\n",
    "\n",
    "        suma += nuevo_termino #usar la iteración para que se actualice el valor de suma en cada recorrido del ciclo for\n",
    "    return suma\n",
    "\n",
    "if __name__ == \"__main__\": #definir función main\n",
    "    #declarar e inicializar variables\n",
    "    n : int = 10\n",
    "    x : float = float(input(\"Ingrese un número real: \"))\n",
    "    aproximacion : float = aproximacion_exponencial(x,n)\n",
    "    valor_real : float = exp(x)\n",
    "    #imprimir resultados\n",
    "    print(f\"Aproximación:{aproximacion}\")\n",
    "    print(f\"Valor real:{valor_real}\")\n",
    "\n",
    "    error:float=abs(valor_real - aproximacion) / valor_real * 100 #calcular el porcentaje de error entre el valor real y la aproximación\n",
    "\n",
    "    print(f\"El porcentaje de error:{error}%\") #imprimir el porcentaje de error"
   ]
  },
  {
   "cell_type": "code",
   "execution_count": 8,
   "metadata": {},
   "outputs": [
    {
     "name": "stdout",
     "output_type": "stream",
     "text": [
      "Aproximación:0.41216155226629486\n",
      "Valor real:0.4121184852417566\n",
      "El porcentaje de error:0.01045015598196332%\n"
     ]
    }
   ],
   "source": [
    "#Aproximación de la función seno alrededor de 0 para cualquier valor x (real), utilizando los primeros n términos de la serie de Maclaurin. \n",
    "from math import sin, factorial\n",
    "\n",
    "def aproximacion_seno(x:float, n:int) -> float: #definir una función para que me calcule la aproximación del seno de x\n",
    "    suma : float = 0\n",
    "    for i in range(n + 1): #usar ciclo for\n",
    "        el_factorial = 2 * i + 1 #calcular el denominador sin su factorial para que recorra todos los números desde 0 a n\n",
    "        termino_inicial_a_sumar = x ** (2 * i + 1) / factorial(el_factorial) #realizar toda la operación de la fracción\n",
    "        termino_final_a_sumar = termino_inicial_a_sumar * ((-1) ** i) #multiplicar la fracción por el término que queda (-1^i)\n",
    "        \n",
    "        suma += termino_final_a_sumar #usar la iteración para que se actualice el valor de suma en cada recorrido del ciclo for\n",
    "    return suma\n",
    "\n",
    "if __name__ == \"__main__\": #definir función main\n",
    "    x : float = float(input(\"Ingrese un número real: \")) #pedirle al usuario que ingrese un número\n",
    "    n : int = 1 #declarar e inicializar n\n",
    "    error : float = 1.0 #declarar e inicializar el error\n",
    "    while error > 0.1: #usar ciclo while para disminuir el porcentaje de error y ser más preciso\n",
    "        aproximacion : float = aproximacion_seno(x,n) #declarar e inicializar la aproximación\n",
    "        valor_real = sin(x) #calcular seno de x\n",
    "        error:float=abs(valor_real - aproximacion) / valor_real * 100 #calcular el porcentaje de error entre el valor real y la aproximación\n",
    "        n += 1 #actualizar n\n",
    "    #imprimir resultados\n",
    "    print(f\"Aproximación:{aproximacion}\")\n",
    "    print(f\"Valor real:{valor_real}\")\n",
    "\n",
    "    error:float=abs(valor_real - aproximacion) / valor_real * 100 #calcular el porcentaje de error entre el valor real y la aproximación\n",
    "\n",
    "    print(f\"El porcentaje de error:{error}%\") #imprimir el porcentaje de error"
   ]
  },
  {
   "cell_type": "code",
   "execution_count": 6,
   "metadata": {},
   "outputs": [
    {
     "name": "stdout",
     "output_type": "stream",
     "text": [
      "Aproximación:0.7861818605316911\n",
      "Valor real:0.7853981633974483\n",
      "El porcentaje de error:0.09978341824136393%\n"
     ]
    }
   ],
   "source": [
    "#Aproximación de la función arcotangente alrededor de 0 para cualquier valor x en el rango [-1, 1], con los primeros n términos de la serie de Maclaurin.\n",
    "from math import atan #importar la función de arcotangente\n",
    "\n",
    "def aproximacion_arctan(x:float, n:int) -> float: #definir una función para que me calcule la aproximación del arcotangente de x\n",
    "    suma : float = 0\n",
    "    for i in range(n + 1): #usar ciclo for\n",
    "        denominador = 2 * i + 1 #calcular el denominador\n",
    "        termino_inicial_a_sumar = x ** (2 * i + 1) / denominador #realizar toda la operación de la fracción\n",
    "        termino_final_a_sumar = termino_inicial_a_sumar * ((-1) ** i) #multiplicar la fracción por el término que queda (-1^i)        \n",
    "            \n",
    "        suma += termino_final_a_sumar #usar la iteración para que se actualice el valor de suma en cada recorrido del ciclo for\n",
    "    return suma\n",
    "\n",
    "\n",
    "if __name__ == \"__main__\": #definir función main\n",
    "    x : float = float(input(\"Ingrese un número real que esté en el rango entre -1 y 1: \")) #pedirle al usuario que ingrese un número\n",
    "    #Definir los dos grupos de instrucciones si x se encuentra en el intervalo [-1,1] o si no\n",
    "    if -1 <= x <= 1: #condición para que x esté entre el intervalo [-1,1]\n",
    "        n : int = 1 #declarar e inicializar n\n",
    "        error : float = 1.0 #declarar e inicializar el error\n",
    "        while error > 0.1: #usar ciclo while para disminuir el porcentaje de error y ser más preciso\n",
    "            aproximacion : float = aproximacion_arctan(x,n) #declarar e inicializar la aproximación\n",
    "            valor_real = atan(x) #calcular arctan de x\n",
    "            error:float=abs(valor_real - aproximacion) / valor_real * 100 #calcular el porcentaje de error entre el valor real y la aproximación\n",
    "            n += 1 #actualizar n\n",
    "        #imprimir resultados\n",
    "        print(f\"Aproximación:{aproximacion}\")\n",
    "        print(f\"Valor real:{valor_real}\")\n",
    "        print(f\"El porcentaje de error:{error}%\")\n",
    "    else: #condición para que el usuario ingrese un número dentro del rango o intervalo [-1,1]\n",
    "        print(\"El número que ingresó está fuera del rango [-1,1].\")"
   ]
  }
 ],
 "metadata": {
  "kernelspec": {
   "display_name": "Python 3",
   "language": "python",
   "name": "python3"
  },
  "language_info": {
   "codemirror_mode": {
    "name": "ipython",
    "version": 3
   },
   "file_extension": ".py",
   "mimetype": "text/x-python",
   "name": "python",
   "nbconvert_exporter": "python",
   "pygments_lexer": "ipython3",
   "version": "3.11.4"
  }
 },
 "nbformat": 4,
 "nbformat_minor": 2
}
